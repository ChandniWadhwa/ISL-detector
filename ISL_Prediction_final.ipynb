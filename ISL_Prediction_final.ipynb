{
  "cells": [
    {
      "cell_type": "code",
      "execution_count": 1,
      "metadata": {
        "id": "74b699b0"
      },
      "outputs": [],
      "source": [
        "import numpy as np\n",
        "import pandas as pd\n",
        "import os\n",
        "import seaborn as sns\n",
        "import matplotlib.pyplot as plt\n",
        "%matplotlib inline\n",
        "import cv2\n",
        "from sklearn.metrics import accuracy_score,precision_score,recall_score,confusion_matrix,roc_curve,roc_auc_score\n",
        "from sklearn.model_selection import train_test_split\n",
        "import tensorflow as tf\n",
        "from tensorflow import keras\n",
        "from keras import utils, callbacks\n",
        "from tensorflow.keras import utils\n",
        "from tensorflow.keras.models import Sequential\n",
        "from tensorflow.keras import layers, models\n",
        "from keras.layers import Flatten, Dense, Dropout\n",
        "from tensorflow.keras.optimizers import Adam\n",
        "from keras.losses import CategoricalCrossentropy\n",
        "import tensorflow as tf\n",
        "from tensorflow.keras.preprocessing.image import ImageDataGenerator\n",
        "from sklearn import metrics\n",
        "from tensorflow.keras.preprocessing import image\n",
        "from tensorflow.keras.preprocessing.image import load_img, img_to_array, array_to_img\n",
        "from tensorflow.keras.utils import to_categorical\n",
        "from sklearn.model_selection import train_test_split\n",
        "from glob import glob\n",
        "import sklearn"
      ],
      "id": "74b699b0"
    },
    {
      "cell_type": "code",
      "execution_count": 2,
      "metadata": {
        "id": "AjpbdIHGKi7p",
        "colab": {
          "base_uri": "https://localhost:8080/"
        },
        "outputId": "0652a4c0-202c-4913-fb28-6c1639ecd0fc"
      },
      "outputs": [
        {
          "output_type": "stream",
          "name": "stdout",
          "text": [
            "Mounted at /content/drive\n"
          ]
        }
      ],
      "source": [
        "from google.colab import drive\n",
        "drive.mount('/content/drive')"
      ],
      "id": "AjpbdIHGKi7p"
    },
    {
      "cell_type": "code",
      "execution_count": null,
      "metadata": {
        "id": "8ad9a511"
      },
      "outputs": [],
      "source": [
        "train_folder = 'drive/MyDrive/Indian/'\n",
        "def load_images():\n",
        "    images = []\n",
        "    labels = []\n",
        "    index = -1\n",
        "    folders = sorted(os.listdir(train_folder))\n",
        "    \n",
        "    for folder in folders:\n",
        "        index += 1\n",
        "      \n",
        "        print(\"Loading images from folder \", folder ,\" has started.\")\n",
        "        for image in os.listdir(train_folder + '/' + folder):\n",
        "            img = cv2.imread(train_folder + '/' + folder + '/' + image, 0)\n",
        "            img = edge_detection(img)\n",
        "            img = cv2.resize(img, (64, 64))\n",
        "            img = img_to_array(img)\n",
        "            images.append(img)\n",
        "            labels.append(index)\n",
        "\n",
        "    images = np.array(images)\n",
        "    images = images.astype('float32')/255.0\n",
        "    labels = to_categorical(labels)\n",
        "\n",
        "    x_train, x_test, y_train, y_test = train_test_split(images, labels, test_size=0.1)\n",
        "\n",
        "    return x_train, x_test, y_train, y_test\n",
        "    \n",
        "def edge_detection(image):\n",
        "    minValue = 70\n",
        "    blur = cv2.GaussianBlur(image,(5,5),2)\n",
        "    th3 = cv2.adaptiveThreshold(blur,255,cv2.ADAPTIVE_THRESH_GAUSSIAN_C,cv2.THRESH_BINARY_INV,11,2)\n",
        "    ret, res = cv2.threshold(th3, minValue, 255, cv2.THRESH_BINARY_INV+cv2.THRESH_OTSU)\n",
        "    return res\n"
      ],
      "id": "8ad9a511"
    },
    {
      "cell_type": "code",
      "execution_count": null,
      "metadata": {
        "id": "b5cfd710",
        "colab": {
          "base_uri": "https://localhost:8080/"
        },
        "outputId": "967e121b-6bfd-4d8f-afbe-e56c22c18daf"
      },
      "outputs": [
        {
          "output_type": "stream",
          "name": "stdout",
          "text": [
            "Loading images from folder  1  has started.\n",
            "Loading images from folder  2  has started.\n",
            "Loading images from folder  3  has started.\n",
            "Loading images from folder  4  has started.\n",
            "Loading images from folder  5  has started.\n",
            "Loading images from folder  6  has started.\n",
            "Loading images from folder  7  has started.\n",
            "Loading images from folder  8  has started.\n",
            "Loading images from folder  9  has started.\n",
            "Loading images from folder  A  has started.\n",
            "Loading images from folder  B  has started.\n",
            "Loading images from folder  C  has started.\n",
            "Loading images from folder  D  has started.\n",
            "Loading images from folder  E  has started.\n",
            "Loading images from folder  F  has started.\n",
            "Loading images from folder  G  has started.\n",
            "Loading images from folder  H  has started.\n",
            "Loading images from folder  I  has started.\n",
            "Loading images from folder  J  has started.\n",
            "Loading images from folder  K  has started.\n",
            "Loading images from folder  L  has started.\n",
            "Loading images from folder  M  has started.\n",
            "Loading images from folder  N  has started.\n",
            "Loading images from folder  O  has started.\n",
            "Loading images from folder  P  has started.\n",
            "Loading images from folder  Q  has started.\n",
            "Loading images from folder  R  has started.\n",
            "Loading images from folder  S  has started.\n",
            "Loading images from folder  T  has started.\n",
            "Loading images from folder  U  has started.\n",
            "Loading images from folder  V  has started.\n",
            "Loading images from folder  W  has started.\n",
            "Loading images from folder  X  has started.\n",
            "Loading images from folder  Y  has started.\n",
            "Loading images from folder  Z  has started.\n"
          ]
        }
      ],
      "source": [
        "x_train, x_test, y_train, y_test = load_images()"
      ],
      "id": "b5cfd710"
    },
    {
      "cell_type": "code",
      "execution_count": null,
      "metadata": {
        "id": "d6906dbb"
      },
      "outputs": [],
      "source": [
        "from sklearn.utils import shuffle\n",
        "x_train, y_train = shuffle(x_train, y_train, random_state=13)\n",
        "x_test, y_test = shuffle(x_test, y_test, random_state=13)"
      ],
      "id": "d6906dbb"
    },
    {
      "cell_type": "markdown",
      "metadata": {
        "id": "4fc1994d"
      },
      "source": [
        "## When training on whole data then make sure you are changing Dense value layer from 9 to 35 as there are total 35 folders for ISL"
      ],
      "id": "4fc1994d"
    },
    {
      "cell_type": "code",
      "execution_count": null,
      "metadata": {
        "id": "25ca4d16",
        "colab": {
          "base_uri": "https://localhost:8080/"
        },
        "outputId": "9a505a5f-115c-4a9d-9a2c-539c6c0a8f86"
      },
      "outputs": [
        {
          "output_type": "stream",
          "name": "stdout",
          "text": [
            "Model: \"sequential\"\n",
            "_________________________________________________________________\n",
            " Layer (type)                Output Shape              Param #   \n",
            "=================================================================\n",
            " conv2d (Conv2D)             (None, 62, 62, 32)        320       \n",
            "                                                                 \n",
            " max_pooling2d (MaxPooling2D  (None, 31, 31, 32)       0         \n",
            " )                                                               \n",
            "                                                                 \n",
            " conv2d_1 (Conv2D)           (None, 29, 29, 64)        18496     \n",
            "                                                                 \n",
            " max_pooling2d_1 (MaxPooling  (None, 14, 14, 64)       0         \n",
            " 2D)                                                             \n",
            "                                                                 \n",
            " conv2d_2 (Conv2D)           (None, 12, 12, 64)        36928     \n",
            "                                                                 \n",
            " max_pooling2d_2 (MaxPooling  (None, 6, 6, 64)         0         \n",
            " 2D)                                                             \n",
            "                                                                 \n",
            " flatten (Flatten)           (None, 2304)              0         \n",
            "                                                                 \n",
            " dense (Dense)               (None, 128)               295040    \n",
            "                                                                 \n",
            " dense_1 (Dense)             (None, 35)                4515      \n",
            "                                                                 \n",
            "=================================================================\n",
            "Total params: 355,299\n",
            "Trainable params: 355,299\n",
            "Non-trainable params: 0\n",
            "_________________________________________________________________\n"
          ]
        }
      ],
      "source": [
        "model = Sequential([\n",
        "    layers.Conv2D(32, (3, 3), activation='relu', input_shape=(64, 64, 1)),\n",
        "    layers.MaxPool2D((2, 2)),\n",
        "    layers.Conv2D(64, (3, 3), activation='relu'),\n",
        "    layers.MaxPool2D((2, 2)),\n",
        "    layers.Conv2D(64, (3, 3), activation='relu'),\n",
        "    layers.MaxPool2D((2, 2)),\n",
        "    layers.Flatten(),\n",
        "    layers.Dense(128, activation='relu'),\n",
        "    layers.Dense(35, activation='softmax')\n",
        "])\n",
        "model.summary()\n"
      ],
      "id": "25ca4d16"
    },
    {
      "cell_type": "markdown",
      "metadata": {
        "id": "6a45f7bf"
      },
      "source": [
        "## If you are training on complete data then commend above map_characters line and use below map_characters where we had mapped all folders into letters and numbers"
      ],
      "id": "6a45f7bf"
    },
    {
      "cell_type": "code",
      "execution_count": null,
      "metadata": {
        "id": "0d2870a6"
      },
      "outputs": [],
      "source": [
        "#map_characters = {0: '1', 1: '2', 2: '3', 3: '4', 4: '5', 5: '6', 6: '7', 7: '8', 8: '9'}\n",
        "\n",
        "map_characters = {0: '1', 1: '2', 2: '3', 3: '4', 4: '5', 5: '6', 6: '7', 7: '8', 8: '9', 9: 'A', 10: 'B', 11: 'C', 12: 'D',\n",
        "                  13: 'E', 14: 'F', 15: 'G', 16: 'H', 17: 'I', 18: 'J', 19: 'K', 20: 'L', 21: 'M', 22: 'N', 23: 'O', 24: 'P',\n",
        "                 25: 'Q', 26: 'R', 27: 'S', 28: 'T', 29: 'U', 30: 'V', 31: 'W', 32: 'X', 33: 'Y', 34: 'Z'}"
      ],
      "id": "0d2870a6"
    },
    {
      "cell_type": "markdown",
      "metadata": {
        "id": "a04174de"
      },
      "source": [
        "## When you are training for whole data then remember to change classes=35 as their are total 35 folders. I had trained on 9 folders only that's why i had used 9 classes"
      ],
      "id": "a04174de"
    },
    {
      "cell_type": "code",
      "execution_count": null,
      "metadata": {
        "id": "d4fc8cd8",
        "colab": {
          "base_uri": "https://localhost:8080/"
        },
        "outputId": "7c5b2a84-dc4a-4798-c5b4-aab4acb08b0d"
      },
      "outputs": [
        {
          "metadata": {
            "tags": null
          },
          "name": "stderr",
          "output_type": "stream",
          "text": [
            "WARNING:absl:`lr` is deprecated in Keras optimizer, please use `learning_rate` or use the legacy optimizer, e.g.,tf.keras.optimizers.legacy.Adam.\n"
          ]
        },
        {
          "output_type": "stream",
          "name": "stdout",
          "text": [
            "Epoch 1/10\n",
            "647/647 [==============================] - 110s 166ms/step - loss: 0.1820 - accuracy: 0.9517 - val_loss: 4.1209e-04 - val_accuracy: 1.0000\n",
            "Epoch 2/10\n",
            "647/647 [==============================] - 106s 164ms/step - loss: 8.4195e-05 - accuracy: 1.0000 - val_loss: 9.3089e-06 - val_accuracy: 1.0000\n",
            "Epoch 3/10\n",
            "647/647 [==============================] - 108s 168ms/step - loss: 1.4561e-05 - accuracy: 1.0000 - val_loss: 5.8020e-06 - val_accuracy: 1.0000\n",
            "Epoch 4/10\n",
            "647/647 [==============================] - 103s 159ms/step - loss: 5.8766e-06 - accuracy: 1.0000 - val_loss: 2.8071e-06 - val_accuracy: 1.0000\n",
            "Epoch 5/10\n",
            "647/647 [==============================] - 106s 163ms/step - loss: 3.3665e-06 - accuracy: 1.0000 - val_loss: 1.5325e-06 - val_accuracy: 1.0000\n",
            "Epoch 6/10\n",
            "647/647 [==============================] - 102s 158ms/step - loss: 2.1666e-06 - accuracy: 1.0000 - val_loss: 1.0230e-06 - val_accuracy: 1.0000\n",
            "Epoch 7/10\n",
            "647/647 [==============================] - 102s 158ms/step - loss: 1.4075e-06 - accuracy: 1.0000 - val_loss: 6.9273e-07 - val_accuracy: 1.0000\n",
            "Epoch 8/10\n",
            "509/647 [======================>.......] - ETA: 21s - loss: 1.0061e-06 - accuracy: 1.0000"
          ]
        }
      ],
      "source": [
        "classes = 35\n",
        "epochs = 10\n",
        "learning_rate = 0.0001\n",
        "\n",
        "adam = Adam(lr=learning_rate)\n",
        "model.compile(optimizer=adam, loss='categorical_crossentropy', metrics=['accuracy'])\n",
        "history = model.fit(x_train, y_train,\n",
        "                    epochs=epochs,\n",
        "                    verbose=1,\n",
        "                    validation_data=(x_test, y_test), shuffle=True)"
      ],
      "id": "d4fc8cd8"
    },
    {
      "cell_type": "code",
      "execution_count": null,
      "metadata": {
        "id": "a21b4d02",
        "colab": {
          "base_uri": "https://localhost:8080/",
          "height": 641
        },
        "outputId": "e5a8e2ec-d824-47b8-92d8-13425b14cc85"
      },
      "outputs": [
        {
          "output_type": "display_data",
          "data": {
            "text/plain": [
              "<Figure size 1400x700 with 1 Axes>"
            ],
            "image/png": "[encoded data removed]"
          },
          "metadata": {}
        }
      ],
      "source": [
        "acc=history.history['accuracy']\n",
        "val_acc=history.history['val_accuracy']\n",
        "loss=history.history['loss']\n",
        "val_loss=history.history['val_loss']\n",
        "\n",
        "epochs=range(len(acc))\n",
        "\n",
        "fig = plt.figure(figsize=(14,7))\n",
        "plt.plot(epochs, acc, 'r', label=\"Training Accuracy\")\n",
        "plt.plot(epochs, val_acc, 'b', label=\"Validation Accuracy\")\n",
        "plt.xlabel('Epoch')\n",
        "plt.ylabel('Accuracy')\n",
        "plt.title('Training and validation accuracy')\n",
        "plt.legend(loc='lower right')\n",
        "plt.show()"
      ],
      "id": "a21b4d02"
    },
    {
      "cell_type": "code",
      "execution_count": null,
      "metadata": {
        "id": "51d6527c",
        "colab": {
          "base_uri": "https://localhost:8080/",
          "height": 657
        },
        "outputId": "e1bdb1b5-25b6-4fb7-b5e8-cb00d0e7734a"
      },
      "outputs": [
        {
          "output_type": "execute_result",
          "data": {
            "text/plain": [
              "Text(0.5, 1.0, 'Training and validation loss')"
            ]
          },
          "metadata": {},
          "execution_count": 10
        },
        {
          "output_type": "display_data",
          "data": {
            "text/plain": [
              "<Figure size 1400x700 with 1 Axes>"
            ],
            "image/png": "[encoded data removed]"
          },
          "metadata": {}
        }
      ],
      "source": [
        "fig = plt.figure(figsize=(14,7))\n",
        "plt.plot(epochs, loss, 'r', label=\"Training Loss\")\n",
        "plt.plot(epochs, val_loss, 'b', label=\"Validation Loss\")\n",
        "plt.legend(loc='upper right')\n",
        "plt.xlabel('Epoch')\n",
        "plt.ylabel('Loss')\n",
        "plt.title('Training and validation loss')"
      ],
      "id": "51d6527c"
    },
    {
      "cell_type": "code",
      "execution_count": null,
      "metadata": {
        "id": "0beff83b"
      },
      "outputs": [],
      "source": [
        "model.save('signCNN_isl.h5')"
      ],
      "id": "0beff83b"
    },
    {
      "cell_type": "code",
      "execution_count": null,
      "metadata": {
        "id": "b4fd44a5"
      },
      "outputs": [],
      "source": [
        "class_labels = list(map_characters.values())"
      ],
      "id": "b4fd44a5"
    },
    {
      "cell_type": "code",
      "execution_count": null,
      "metadata": {
        "id": "6d89e0d9",
        "colab": {
          "base_uri": "https://localhost:8080/"
        },
        "outputId": "e7912499-ecfa-4e1b-e36d-c8af3139174b"
      },
      "outputs": [
        {
          "output_type": "execute_result",
          "data": {
            "text/plain": [
              "['1',\n",
              " '2',\n",
              " '3',\n",
              " '4',\n",
              " '5',\n",
              " '6',\n",
              " '7',\n",
              " '8',\n",
              " '9',\n",
              " 'A',\n",
              " 'B',\n",
              " 'C',\n",
              " 'D',\n",
              " 'E',\n",
              " 'F',\n",
              " 'G',\n",
              " 'H',\n",
              " 'I',\n",
              " 'J',\n",
              " 'K',\n",
              " 'L',\n",
              " 'M',\n",
              " 'N',\n",
              " 'O',\n",
              " 'P',\n",
              " 'Q',\n",
              " 'R',\n",
              " 'S',\n",
              " 'T',\n",
              " 'U',\n",
              " 'V',\n",
              " 'W',\n",
              " 'X',\n",
              " 'Y',\n",
              " 'Z']"
            ]
          },
          "metadata": {},
          "execution_count": 13
        }
      ],
      "source": [
        "class_labels"
      ],
      "id": "6d89e0d9"
    },
    {
      "cell_type": "code",
      "execution_count": null,
      "metadata": {
        "id": "1bd7ae76",
        "colab": {
          "base_uri": "https://localhost:8080/"
        },
        "outputId": "fa8856e1-5925-4197-dd00-b4fb95837dfc"
      },
      "outputs": [
        {
          "output_type": "stream",
          "name": "stdout",
          "text": [
            "72/72 [==============================] - 3s 38ms/step\n",
            "[14 29 15 ...  9 14 27]\n",
            "[14 29 15 ...  9 14 27]\n"
          ]
        }
      ],
      "source": [
        "y_pred = model.predict(x_test, verbose = 1)\n",
        "#print('\\n', sklearn.metrics.classification_report(np.where(y_test > 0)[1], np.argmax(y_pred, axis=1), target_names=list(labels.values())), sep='') \n",
        "Y_pred_classes = np.argmax(y_pred,axis = 1) \n",
        "Y_true = np.argmax(y_test,axis = 1) \n",
        "print(Y_pred_classes)\n",
        "print(Y_true)"
      ],
      "id": "1bd7ae76"
    },
    {
      "cell_type": "markdown",
      "metadata": {
        "id": "7e8964e3"
      },
      "source": [
        "## How to upload picture from x_test data and start doing testing"
      ],
      "id": "7e8964e3"
    },
    {
      "cell_type": "code",
      "execution_count": null,
      "metadata": {
        "id": "31b9f18c",
        "colab": {
          "base_uri": "https://localhost:8080/",
          "height": 464
        },
        "outputId": "181963c2-f7e1-42a1-efb0-44d8cf356577"
      },
      "outputs": [
        {
          "output_type": "stream",
          "name": "stdout",
          "text": [
            "1/1 [==============================] - 0s 27ms/step\n",
            "F\n"
          ]
        },
        {
          "output_type": "display_data",
          "data": {
            "text/plain": [
              "<Figure size 640x480 with 1 Axes>"
            ],
            "image/png": "[encoded data removed]"
          },
          "metadata": {}
        }
      ],
      "source": [
        "# label mapping\n",
        "\n",
        "#labels = '''airplane automobile bird cat deerdog frog horseship truck'''.split()\n",
        "\n",
        "# select the image from our test dataset\n",
        "image_number = 7\n",
        "\n",
        "# display the image\n",
        "plt.imshow(x_test[image_number])\n",
        "\n",
        "# load the image in an array\n",
        "n = np.array(x_test[image_number])\n",
        "\n",
        "# reshape it\n",
        "p = n.reshape(1, 64, 64, 1)\n",
        "\n",
        "# pass in the network for prediction and\n",
        "# save the predicted label\n",
        "predicted_label = class_labels[model.predict(p).argmax()]\n",
        "print(predicted_label)\n",
        "\n",
        "# load the original label\n",
        "#original_label = class_labels[y_test[image_number]]\n",
        "\n",
        "# display the result\n",
        "#print(\"Original label is {} and predicted label is {}\".format(\n",
        "#\toriginal_label, predicted_label))\n"
      ],
      "id": "31b9f18c"
    },
    {
      "cell_type": "markdown",
      "metadata": {
        "id": "fd4c66aa"
      },
      "source": [
        "## How to upload any picture and do testing of ISL"
      ],
      "id": "fd4c66aa"
    },
    {
      "cell_type": "code",
      "execution_count": null,
      "metadata": {
        "id": "5ef64e9b",
        "colab": {
          "base_uri": "https://localhost:8080/",
          "height": 224
        },
        "outputId": "8e84ba7f-849e-4c7f-d068-b435aec40575"
      },
      "outputs": [
        {
          "output_type": "error",
          "ename": "AttributeError",
          "evalue": "ignored",
          "traceback": [
            "\u001b[0;31m---------------------------------------------------------------------------\u001b[0m",
            "\u001b[0;31mAttributeError\u001b[0m                            Traceback (most recent call last)",
            "\u001b[0;32m<ipython-input-16-7aec54d28cba>\u001b[0m in \u001b[0;36m<cell line: 3>\u001b[0;34m()\u001b[0m\n\u001b[1;32m      1\u001b[0m \u001b[0mfilename\u001b[0m\u001b[0;34m=\u001b[0m\u001b[0;34m'content/drive/MyDrive/Indian'\u001b[0m\u001b[0;34m\u001b[0m\u001b[0;34m\u001b[0m\u001b[0m\n\u001b[1;32m      2\u001b[0m \u001b[0mimg\u001b[0m \u001b[0;34m=\u001b[0m \u001b[0mcv2\u001b[0m\u001b[0;34m.\u001b[0m\u001b[0mimread\u001b[0m\u001b[0;34m(\u001b[0m\u001b[0mfilename\u001b[0m\u001b[0;34m,\u001b[0m\u001b[0;36m0\u001b[0m\u001b[0;34m)\u001b[0m\u001b[0;34m\u001b[0m\u001b[0;34m\u001b[0m\u001b[0m\n\u001b[0;32m----> 3\u001b[0;31m \u001b[0mprint\u001b[0m\u001b[0;34m(\u001b[0m\u001b[0mimg\u001b[0m\u001b[0;34m.\u001b[0m\u001b[0mshape\u001b[0m\u001b[0;34m)\u001b[0m\u001b[0;34m\u001b[0m\u001b[0;34m\u001b[0m\u001b[0m\n\u001b[0m\u001b[1;32m      4\u001b[0m \u001b[0mimg\u001b[0m \u001b[0;34m=\u001b[0m \u001b[0medge_detection\u001b[0m\u001b[0;34m(\u001b[0m\u001b[0mimg\u001b[0m\u001b[0;34m)\u001b[0m\u001b[0;34m\u001b[0m\u001b[0;34m\u001b[0m\u001b[0m\n\u001b[1;32m      5\u001b[0m \u001b[0mimg\u001b[0m \u001b[0;34m=\u001b[0m \u001b[0mcv2\u001b[0m\u001b[0;34m.\u001b[0m\u001b[0mresize\u001b[0m\u001b[0;34m(\u001b[0m\u001b[0mimg\u001b[0m\u001b[0;34m,\u001b[0m \u001b[0;34m(\u001b[0m\u001b[0;36m64\u001b[0m\u001b[0;34m,\u001b[0m \u001b[0;36m64\u001b[0m\u001b[0;34m)\u001b[0m\u001b[0;34m)\u001b[0m\u001b[0;34m\u001b[0m\u001b[0;34m\u001b[0m\u001b[0m\n",
            "\u001b[0;31mAttributeError\u001b[0m: 'NoneType' object has no attribute 'shape'"
          ]
        }
      ],
      "source": [
        "filename='content/drive/MyDrive/Indian'\n",
        "img = cv2.imread(filename,0)\n",
        "print(img.shape)\n",
        "img = edge_detection(img)\n",
        "img = cv2.resize(img, (64, 64))\n",
        "print(img.shape)\n",
        "img = img_to_array(img)\n",
        "plt.imshow(img)\n",
        "\n",
        "#width, height = img.size\n",
        "# reshape it\n",
        "p = img.reshape(1, 64, 64, 1)\n",
        "\n",
        "# pass in the network for prediction and\n",
        "# save the predicted label\n",
        "predicted_label = class_labels[model.predict(p).argmax()]\n",
        "print(predicted_label)\n",
        "\n",
        "# load the original label\n",
        "#original_label = class_labels[y_test[image_number]]\n",
        "\n",
        "# display the result\n",
        "#print(\"Original label is {} and predicted label is {}\".format(\n",
        "#\toriginal_label, predicted_label))\n"
      ],
      "id": "5ef64e9b"
    },
    {
      "cell_type": "code",
      "execution_count": null,
      "metadata": {
        "id": "HiePvp5DYj_x",
        "colab": {
          "base_uri": "https://localhost:8080/",
          "height": 749
        },
        "outputId": "efeeca9b-33c5-4b57-ff7b-98b5451aee6f"
      },
      "outputs": [
        {
          "output_type": "error",
          "ename": "TypeError",
          "evalue": "ignored",
          "traceback": [
            "\u001b[0;31m---------------------------------------------------------------------------\u001b[0m",
            "\u001b[0;31mTypeError\u001b[0m                                 Traceback (most recent call last)",
            "\u001b[0;32m<ipython-input-17-9eef2b714bfc>\u001b[0m in \u001b[0;36m<cell line: 3>\u001b[0;34m()\u001b[0m\n\u001b[1;32m      1\u001b[0m \u001b[0;32mimport\u001b[0m \u001b[0mcv2\u001b[0m\u001b[0;34m\u001b[0m\u001b[0;34m\u001b[0m\u001b[0m\n\u001b[1;32m      2\u001b[0m \u001b[0mimg\u001b[0m\u001b[0;34m=\u001b[0m\u001b[0mcv2\u001b[0m\u001b[0;34m.\u001b[0m\u001b[0mimread\u001b[0m\u001b[0;34m(\u001b[0m\u001b[0;34m'/content/IMG_9366.PNG'\u001b[0m\u001b[0;34m,\u001b[0m\u001b[0;36m0\u001b[0m\u001b[0;34m)\u001b[0m\u001b[0;34m\u001b[0m\u001b[0;34m\u001b[0m\u001b[0m\n\u001b[0;32m----> 3\u001b[0;31m \u001b[0mplt\u001b[0m\u001b[0;34m.\u001b[0m\u001b[0mimshow\u001b[0m\u001b[0;34m(\u001b[0m\u001b[0mimg\u001b[0m\u001b[0;34m)\u001b[0m\u001b[0;34m\u001b[0m\u001b[0;34m\u001b[0m\u001b[0m\n\u001b[0m",
            "\u001b[0;32m/usr/local/lib/python3.10/dist-packages/matplotlib/pyplot.py\u001b[0m in \u001b[0;36mimshow\u001b[0;34m(X, cmap, norm, aspect, interpolation, alpha, vmin, vmax, origin, extent, interpolation_stage, filternorm, filterrad, resample, url, data, **kwargs)\u001b[0m\n\u001b[1;32m   2693\u001b[0m         \u001b[0minterpolation_stage\u001b[0m\u001b[0;34m=\u001b[0m\u001b[0;32mNone\u001b[0m\u001b[0;34m,\u001b[0m \u001b[0mfilternorm\u001b[0m\u001b[0;34m=\u001b[0m\u001b[0;32mTrue\u001b[0m\u001b[0;34m,\u001b[0m \u001b[0mfilterrad\u001b[0m\u001b[0;34m=\u001b[0m\u001b[0;36m4.0\u001b[0m\u001b[0;34m,\u001b[0m\u001b[0;34m\u001b[0m\u001b[0;34m\u001b[0m\u001b[0m\n\u001b[1;32m   2694\u001b[0m         resample=None, url=None, data=None, **kwargs):\n\u001b[0;32m-> 2695\u001b[0;31m     __ret = gca().imshow(\n\u001b[0m\u001b[1;32m   2696\u001b[0m         \u001b[0mX\u001b[0m\u001b[0;34m,\u001b[0m \u001b[0mcmap\u001b[0m\u001b[0;34m=\u001b[0m\u001b[0mcmap\u001b[0m\u001b[0;34m,\u001b[0m \u001b[0mnorm\u001b[0m\u001b[0;34m=\u001b[0m\u001b[0mnorm\u001b[0m\u001b[0;34m,\u001b[0m \u001b[0maspect\u001b[0m\u001b[0;34m=\u001b[0m\u001b[0maspect\u001b[0m\u001b[0;34m,\u001b[0m\u001b[0;34m\u001b[0m\u001b[0;34m\u001b[0m\u001b[0m\n\u001b[1;32m   2697\u001b[0m         \u001b[0minterpolation\u001b[0m\u001b[0;34m=\u001b[0m\u001b[0minterpolation\u001b[0m\u001b[0;34m,\u001b[0m \u001b[0malpha\u001b[0m\u001b[0;34m=\u001b[0m\u001b[0malpha\u001b[0m\u001b[0;34m,\u001b[0m \u001b[0mvmin\u001b[0m\u001b[0;34m=\u001b[0m\u001b[0mvmin\u001b[0m\u001b[0;34m,\u001b[0m\u001b[0;34m\u001b[0m\u001b[0;34m\u001b[0m\u001b[0m\n",
            "\u001b[0;32m/usr/local/lib/python3.10/dist-packages/matplotlib/__init__.py\u001b[0m in \u001b[0;36minner\u001b[0;34m(ax, data, *args, **kwargs)\u001b[0m\n\u001b[1;32m   1440\u001b[0m     \u001b[0;32mdef\u001b[0m \u001b[0minner\u001b[0m\u001b[0;34m(\u001b[0m\u001b[0max\u001b[0m\u001b[0;34m,\u001b[0m \u001b[0;34m*\u001b[0m\u001b[0margs\u001b[0m\u001b[0;34m,\u001b[0m \u001b[0mdata\u001b[0m\u001b[0;34m=\u001b[0m\u001b[0;32mNone\u001b[0m\u001b[0;34m,\u001b[0m \u001b[0;34m**\u001b[0m\u001b[0mkwargs\u001b[0m\u001b[0;34m)\u001b[0m\u001b[0;34m:\u001b[0m\u001b[0;34m\u001b[0m\u001b[0;34m\u001b[0m\u001b[0m\n\u001b[1;32m   1441\u001b[0m         \u001b[0;32mif\u001b[0m \u001b[0mdata\u001b[0m \u001b[0;32mis\u001b[0m \u001b[0;32mNone\u001b[0m\u001b[0;34m:\u001b[0m\u001b[0;34m\u001b[0m\u001b[0;34m\u001b[0m\u001b[0m\n\u001b[0;32m-> 1442\u001b[0;31m             \u001b[0;32mreturn\u001b[0m \u001b[0mfunc\u001b[0m\u001b[0;34m(\u001b[0m\u001b[0max\u001b[0m\u001b[0;34m,\u001b[0m \u001b[0;34m*\u001b[0m\u001b[0mmap\u001b[0m\u001b[0;34m(\u001b[0m\u001b[0msanitize_sequence\u001b[0m\u001b[0;34m,\u001b[0m \u001b[0margs\u001b[0m\u001b[0;34m)\u001b[0m\u001b[0;34m,\u001b[0m \u001b[0;34m**\u001b[0m\u001b[0mkwargs\u001b[0m\u001b[0;34m)\u001b[0m\u001b[0;34m\u001b[0m\u001b[0;34m\u001b[0m\u001b[0m\n\u001b[0m\u001b[1;32m   1443\u001b[0m \u001b[0;34m\u001b[0m\u001b[0m\n\u001b[1;32m   1444\u001b[0m         \u001b[0mbound\u001b[0m \u001b[0;34m=\u001b[0m \u001b[0mnew_sig\u001b[0m\u001b[0;34m.\u001b[0m\u001b[0mbind\u001b[0m\u001b[0;34m(\u001b[0m\u001b[0max\u001b[0m\u001b[0;34m,\u001b[0m \u001b[0;34m*\u001b[0m\u001b[0margs\u001b[0m\u001b[0;34m,\u001b[0m \u001b[0;34m**\u001b[0m\u001b[0mkwargs\u001b[0m\u001b[0;34m)\u001b[0m\u001b[0;34m\u001b[0m\u001b[0;34m\u001b[0m\u001b[0m\n",
            "\u001b[0;32m/usr/local/lib/python3.10/dist-packages/matplotlib/axes/_axes.py\u001b[0m in \u001b[0;36mimshow\u001b[0;34m(self, X, cmap, norm, aspect, interpolation, alpha, vmin, vmax, origin, extent, interpolation_stage, filternorm, filterrad, resample, url, **kwargs)\u001b[0m\n\u001b[1;32m   5663\u001b[0m                               **kwargs)\n\u001b[1;32m   5664\u001b[0m \u001b[0;34m\u001b[0m\u001b[0m\n\u001b[0;32m-> 5665\u001b[0;31m         \u001b[0mim\u001b[0m\u001b[0;34m.\u001b[0m\u001b[0mset_data\u001b[0m\u001b[0;34m(\u001b[0m\u001b[0mX\u001b[0m\u001b[0;34m)\u001b[0m\u001b[0;34m\u001b[0m\u001b[0;34m\u001b[0m\u001b[0m\n\u001b[0m\u001b[1;32m   5666\u001b[0m         \u001b[0mim\u001b[0m\u001b[0;34m.\u001b[0m\u001b[0mset_alpha\u001b[0m\u001b[0;34m(\u001b[0m\u001b[0malpha\u001b[0m\u001b[0;34m)\u001b[0m\u001b[0;34m\u001b[0m\u001b[0;34m\u001b[0m\u001b[0m\n\u001b[1;32m   5667\u001b[0m         \u001b[0;32mif\u001b[0m \u001b[0mim\u001b[0m\u001b[0;34m.\u001b[0m\u001b[0mget_clip_path\u001b[0m\u001b[0;34m(\u001b[0m\u001b[0;34m)\u001b[0m \u001b[0;32mis\u001b[0m \u001b[0;32mNone\u001b[0m\u001b[0;34m:\u001b[0m\u001b[0;34m\u001b[0m\u001b[0;34m\u001b[0m\u001b[0m\n",
            "\u001b[0;32m/usr/local/lib/python3.10/dist-packages/matplotlib/image.py\u001b[0m in \u001b[0;36mset_data\u001b[0;34m(self, A)\u001b[0m\n\u001b[1;32m    699\u001b[0m         if (self._A.dtype != np.uint8 and\n\u001b[1;32m    700\u001b[0m                 not np.can_cast(self._A.dtype, float, \"same_kind\")):\n\u001b[0;32m--> 701\u001b[0;31m             raise TypeError(\"Image data of dtype {} cannot be converted to \"\n\u001b[0m\u001b[1;32m    702\u001b[0m                             \"float\".format(self._A.dtype))\n\u001b[1;32m    703\u001b[0m \u001b[0;34m\u001b[0m\u001b[0m\n",
            "\u001b[0;31mTypeError\u001b[0m: Image data of dtype object cannot be converted to float"
          ]
        },
        {
          "output_type": "display_data",
          "data": {
            "text/plain": [
              "<Figure size 640x480 with 1 Axes>"
            ],
            "image/png": "[encoded data removed]"
          },
          "metadata": {}
        }
      ],
      "source": [
        "import cv2 \n",
        "img=cv2.imread('/content/IMG_9366.PNG',0)\n",
        "plt.imshow(img)"
      ],
      "id": "HiePvp5DYj_x"
    },
    {
      "cell_type": "code",
      "execution_count": null,
      "metadata": {
        "id": "6757127f"
      },
      "outputs": [],
      "source": [
        "def predict_label (img_path):\n",
        "  \n",
        "  img = cv2.imread(img_path,0)\n",
        "  \n",
        "  img = edge_detection(img)\n",
        "  img = cv2.resize(img, (64, 64))\n",
        "  \n",
        "  img = img_to_array(img)\n",
        "  plt.imshow(img)\n",
        "\n",
        "  #width, height = img.size\n",
        "  # reshape it\n",
        "  p = img.reshape(1, 64, 64, 1)\n",
        "\n",
        "  # pass in the network for prediction and\n",
        "  # save the predicted label\n",
        "  predicted_label = class_labels[model.predict(p).argmax()]\n",
        "  return predicted_label\n",
        "\n"
      ],
      "id": "6757127f"
    },
    {
      "cell_type": "code",
      "execution_count": null,
      "metadata": {
        "id": "7f6b96c3",
        "colab": {
          "base_uri": "https://localhost:8080/",
          "height": 315
        },
        "outputId": "3bf5ce2e-636b-433f-9ada-d4637f4f4d05"
      },
      "outputs": [
        {
          "output_type": "error",
          "ename": "error",
          "evalue": "ignored",
          "traceback": [
            "\u001b[0;31m---------------------------------------------------------------------------\u001b[0m",
            "\u001b[0;31merror\u001b[0m                                     Traceback (most recent call last)",
            "\u001b[0;32m<ipython-input-19-a8f39c9599f5>\u001b[0m in \u001b[0;36m<cell line: 2>\u001b[0;34m()\u001b[0m\n\u001b[1;32m      1\u001b[0m \u001b[0mfilename\u001b[0m\u001b[0;34m=\u001b[0m\u001b[0;34m'/content/IMG_9366.PNG'\u001b[0m\u001b[0;34m\u001b[0m\u001b[0;34m\u001b[0m\u001b[0m\n\u001b[0;32m----> 2\u001b[0;31m \u001b[0mpredict_label\u001b[0m\u001b[0;34m(\u001b[0m\u001b[0mfilename\u001b[0m\u001b[0;34m)\u001b[0m\u001b[0;34m\u001b[0m\u001b[0;34m\u001b[0m\u001b[0m\n\u001b[0m",
            "\u001b[0;32m<ipython-input-18-e531356784d1>\u001b[0m in \u001b[0;36mpredict_label\u001b[0;34m(img_path)\u001b[0m\n\u001b[1;32m      3\u001b[0m   \u001b[0mimg\u001b[0m \u001b[0;34m=\u001b[0m \u001b[0mcv2\u001b[0m\u001b[0;34m.\u001b[0m\u001b[0mimread\u001b[0m\u001b[0;34m(\u001b[0m\u001b[0mimg_path\u001b[0m\u001b[0;34m,\u001b[0m\u001b[0;36m0\u001b[0m\u001b[0;34m)\u001b[0m\u001b[0;34m\u001b[0m\u001b[0;34m\u001b[0m\u001b[0m\n\u001b[1;32m      4\u001b[0m \u001b[0;34m\u001b[0m\u001b[0m\n\u001b[0;32m----> 5\u001b[0;31m   \u001b[0mimg\u001b[0m \u001b[0;34m=\u001b[0m \u001b[0medge_detection\u001b[0m\u001b[0;34m(\u001b[0m\u001b[0mimg\u001b[0m\u001b[0;34m)\u001b[0m\u001b[0;34m\u001b[0m\u001b[0;34m\u001b[0m\u001b[0m\n\u001b[0m\u001b[1;32m      6\u001b[0m   \u001b[0mimg\u001b[0m \u001b[0;34m=\u001b[0m \u001b[0mcv2\u001b[0m\u001b[0;34m.\u001b[0m\u001b[0mresize\u001b[0m\u001b[0;34m(\u001b[0m\u001b[0mimg\u001b[0m\u001b[0;34m,\u001b[0m \u001b[0;34m(\u001b[0m\u001b[0;36m64\u001b[0m\u001b[0;34m,\u001b[0m \u001b[0;36m64\u001b[0m\u001b[0;34m)\u001b[0m\u001b[0;34m)\u001b[0m\u001b[0;34m\u001b[0m\u001b[0;34m\u001b[0m\u001b[0m\n\u001b[1;32m      7\u001b[0m \u001b[0;34m\u001b[0m\u001b[0m\n",
            "\u001b[0;32m<ipython-input-3-ddb303f9490a>\u001b[0m in \u001b[0;36medge_detection\u001b[0;34m(image)\u001b[0m\n\u001b[1;32m     28\u001b[0m \u001b[0;32mdef\u001b[0m \u001b[0medge_detection\u001b[0m\u001b[0;34m(\u001b[0m\u001b[0mimage\u001b[0m\u001b[0;34m)\u001b[0m\u001b[0;34m:\u001b[0m\u001b[0;34m\u001b[0m\u001b[0;34m\u001b[0m\u001b[0m\n\u001b[1;32m     29\u001b[0m     \u001b[0mminValue\u001b[0m \u001b[0;34m=\u001b[0m \u001b[0;36m70\u001b[0m\u001b[0;34m\u001b[0m\u001b[0;34m\u001b[0m\u001b[0m\n\u001b[0;32m---> 30\u001b[0;31m     \u001b[0mblur\u001b[0m \u001b[0;34m=\u001b[0m \u001b[0mcv2\u001b[0m\u001b[0;34m.\u001b[0m\u001b[0mGaussianBlur\u001b[0m\u001b[0;34m(\u001b[0m\u001b[0mimage\u001b[0m\u001b[0;34m,\u001b[0m\u001b[0;34m(\u001b[0m\u001b[0;36m5\u001b[0m\u001b[0;34m,\u001b[0m\u001b[0;36m5\u001b[0m\u001b[0;34m)\u001b[0m\u001b[0;34m,\u001b[0m\u001b[0;36m2\u001b[0m\u001b[0;34m)\u001b[0m\u001b[0;34m\u001b[0m\u001b[0;34m\u001b[0m\u001b[0m\n\u001b[0m\u001b[1;32m     31\u001b[0m     \u001b[0mth3\u001b[0m \u001b[0;34m=\u001b[0m \u001b[0mcv2\u001b[0m\u001b[0;34m.\u001b[0m\u001b[0madaptiveThreshold\u001b[0m\u001b[0;34m(\u001b[0m\u001b[0mblur\u001b[0m\u001b[0;34m,\u001b[0m\u001b[0;36m255\u001b[0m\u001b[0;34m,\u001b[0m\u001b[0mcv2\u001b[0m\u001b[0;34m.\u001b[0m\u001b[0mADAPTIVE_THRESH_GAUSSIAN_C\u001b[0m\u001b[0;34m,\u001b[0m\u001b[0mcv2\u001b[0m\u001b[0;34m.\u001b[0m\u001b[0mTHRESH_BINARY_INV\u001b[0m\u001b[0;34m,\u001b[0m\u001b[0;36m11\u001b[0m\u001b[0;34m,\u001b[0m\u001b[0;36m2\u001b[0m\u001b[0;34m)\u001b[0m\u001b[0;34m\u001b[0m\u001b[0;34m\u001b[0m\u001b[0m\n\u001b[1;32m     32\u001b[0m     \u001b[0mret\u001b[0m\u001b[0;34m,\u001b[0m \u001b[0mres\u001b[0m \u001b[0;34m=\u001b[0m \u001b[0mcv2\u001b[0m\u001b[0;34m.\u001b[0m\u001b[0mthreshold\u001b[0m\u001b[0;34m(\u001b[0m\u001b[0mth3\u001b[0m\u001b[0;34m,\u001b[0m \u001b[0mminValue\u001b[0m\u001b[0;34m,\u001b[0m \u001b[0;36m255\u001b[0m\u001b[0;34m,\u001b[0m \u001b[0mcv2\u001b[0m\u001b[0;34m.\u001b[0m\u001b[0mTHRESH_BINARY_INV\u001b[0m\u001b[0;34m+\u001b[0m\u001b[0mcv2\u001b[0m\u001b[0;34m.\u001b[0m\u001b[0mTHRESH_OTSU\u001b[0m\u001b[0;34m)\u001b[0m\u001b[0;34m\u001b[0m\u001b[0;34m\u001b[0m\u001b[0m\n",
            "\u001b[0;31merror\u001b[0m: OpenCV(4.7.0) /io/opencv/modules/imgproc/src/smooth.dispatch.cpp:617: error: (-215:Assertion failed) !_src.empty() in function 'GaussianBlur'\n"
          ]
        }
      ],
      "source": [
        "filename='/content/IMG_9366.PNG'\n",
        "predict_label(filename)\n"
      ],
      "id": "7f6b96c3"
    },
    {
      "cell_type": "code",
      "execution_count": null,
      "metadata": {
        "id": "fb7c807b",
        "colab": {
          "base_uri": "https://localhost:8080/"
        },
        "outputId": "fffe2c5f-8311-441c-940b-6871ca2e71e3"
      },
      "outputs": [
        {
          "output_type": "stream",
          "name": "stdout",
          "text": [
            "Looking in indexes: https://pypi.org/simple, https://us-python.pkg.dev/colab-wheels/public/simple/\n",
            "Collecting flask-ngrok\n",
            "  Downloading flask_ngrok-0.0.25-py3-none-any.whl (3.1 kB)\n",
            "Requirement already satisfied: Flask>=0.8 in /usr/local/lib/python3.10/dist-packages (from flask-ngrok) (2.2.4)\n",
            "Requirement already satisfied: requests in /usr/local/lib/python3.10/dist-packages (from flask-ngrok) (2.27.1)\n",
            "Requirement already satisfied: Werkzeug>=2.2.2 in /usr/local/lib/python3.10/dist-packages (from Flask>=0.8->flask-ngrok) (2.3.0)\n",
            "Requirement already satisfied: Jinja2>=3.0 in /usr/local/lib/python3.10/dist-packages (from Flask>=0.8->flask-ngrok) (3.1.2)\n",
            "Requirement already satisfied: itsdangerous>=2.0 in /usr/local/lib/python3.10/dist-packages (from Flask>=0.8->flask-ngrok) (2.1.2)\n",
            "Requirement already satisfied: click>=8.0 in /usr/local/lib/python3.10/dist-packages (from Flask>=0.8->flask-ngrok) (8.1.3)\n",
            "Requirement already satisfied: urllib3<1.27,>=1.21.1 in /usr/local/lib/python3.10/dist-packages (from requests->flask-ngrok) (1.26.15)\n",
            "Requirement already satisfied: certifi>=2017.4.17 in /usr/local/lib/python3.10/dist-packages (from requests->flask-ngrok) (2022.12.7)\n",
            "Requirement already satisfied: charset-normalizer~=2.0.0 in /usr/local/lib/python3.10/dist-packages (from requests->flask-ngrok) (2.0.12)\n",
            "Requirement already satisfied: idna<4,>=2.5 in /usr/local/lib/python3.10/dist-packages (from requests->flask-ngrok) (3.4)\n",
            "Requirement already satisfied: MarkupSafe>=2.0 in /usr/local/lib/python3.10/dist-packages (from Jinja2>=3.0->Flask>=0.8->flask-ngrok) (2.1.2)\n",
            "Installing collected packages: flask-ngrok\n",
            "Successfully installed flask-ngrok-0.0.25\n"
          ]
        }
      ],
      "source": [
        "pip install flask-ngrok"
      ],
      "id": "fb7c807b"
    },
    {
      "cell_type": "code",
      "execution_count": null,
      "metadata": {
        "id": "dd93e5bc",
        "colab": {
          "base_uri": "https://localhost:8080/"
        },
        "outputId": "80cc3a78-909b-4527-cb9a-3db5dc70ead1"
      },
      "outputs": [
        {
          "output_type": "stream",
          "name": "stdout",
          "text": [
            "Looking in indexes: https://pypi.org/simple, https://us-python.pkg.dev/colab-wheels/public/simple/\n",
            "Requirement already satisfied: pyngrok in /usr/local/lib/python3.10/dist-packages (6.0.0)\n",
            "Requirement already satisfied: PyYAML in /usr/local/lib/python3.10/dist-packages (from pyngrok) (6.0)\n"
          ]
        }
      ],
      "source": [
        "pip install pyngrok"
      ],
      "id": "dd93e5bc"
    },
    {
      "cell_type": "code",
      "execution_count": null,
      "metadata": {
        "id": "b11ffb8f",
        "colab": {
          "base_uri": "https://localhost:8080/"
        },
        "outputId": "9d3e5087-c979-4399-9915-070eb9f53508"
      },
      "outputs": [
        {
          "output_type": "stream",
          "name": "stdout",
          "text": [
            "Authtoken saved to configuration file: /root/.ngrok2/ngrok.yml\n"
          ]
        }
      ],
      "source": [
        "!ngrok authtoken 2O6ToB6iriD9SxMOuKTpISlq9Sz_3FuiE8UB41hGBnn4eYLd8"
      ],
      "id": "b11ffb8f"
    },
    {
      "cell_type": "code",
      "execution_count": null,
      "metadata": {
        "id": "bf53640e",
        "colab": {
          "base_uri": "https://localhost:8080/",
          "height": 629
        },
        "outputId": "be2bbd8b-23fb-438f-d9ff-9df66e7a6954"
      },
      "outputs": [
        {
          "output_type": "stream",
          "name": "stdout",
          "text": [
            " * Serving Flask app '__main__'\n",
            " * Debug mode: off\n"
          ]
        },
        {
          "output_type": "stream",
          "name": "stderr",
          "text": [
            "INFO:werkzeug:\u001b[31m\u001b[1mWARNING: This is a development server. Do not use it in a production deployment. Use a production WSGI server instead.\u001b[0m\n",
            " * Running on http://127.0.0.1:5000\n",
            "INFO:werkzeug:\u001b[33mPress CTRL+C to quit\u001b[0m\n"
          ]
        },
        {
          "output_type": "stream",
          "name": "stdout",
          "text": [
            " * Running on http://c621-34-32-169-100.ngrok-free.app\n",
            " * Traffic stats available on http://127.0.0.1:4040\n"
          ]
        },
        {
          "output_type": "stream",
          "name": "stderr",
          "text": [
            "INFO:werkzeug:127.0.0.1 - - [16/May/2023 19:29:22] \"GET / HTTP/1.1\" 200 -\n"
          ]
        },
        {
          "output_type": "stream",
          "name": "stdout",
          "text": [
            "static/7.jpg\n",
            "1/1 [==============================] - 0s 23ms/step\n"
          ]
        },
        {
          "output_type": "stream",
          "name": "stderr",
          "text": [
            "INFO:werkzeug:127.0.0.1 - - [16/May/2023 19:29:37] \"POST /submit HTTP/1.1\" 200 -\n",
            "INFO:werkzeug:127.0.0.1 - - [16/May/2023 19:29:37] \"GET /static/7.jpg HTTP/1.1\" 200 -\n"
          ]
        },
        {
          "output_type": "display_data",
          "data": {
            "text/plain": [
              "<Figure size 640x480 with 1 Axes>"
            ],
            "image/png": "[encoded data removed]"
          },
          "metadata": {}
        }
      ],
      "source": [
        "\n",
        "import numpy as np\n",
        "from flask_ngrok import run_with_ngrok\n",
        "import cv2\n",
        "from flask import Flask, render_template, request\n",
        "\n",
        "app = Flask(__name__)\n",
        "run_with_ngrok(app)   \n",
        "\n",
        "\n",
        "\n",
        "@app.route(\"/\", methods=['GET', 'POST'])\n",
        "def main():\n",
        "\treturn render_template(\"chandani.html\")\n",
        "\n",
        "@app.route(\"/submit\", methods = ['GET', 'POST'])\n",
        "def get_output():\n",
        "  if request.method == 'POST':\n",
        "    img = request.files['my_image']\n",
        "    img_path = \"static/\" + img.filename\t\n",
        "    img.save(img_path)\n",
        "    print(img_path)\n",
        "    p = predict_label(img_path)\n",
        "    #p=\"chandni\"\n",
        "    return render_template(\"chandani.html\", prediction = p, img_path = img_path)\n",
        "app.run()"
      ],
      "id": "bf53640e"
    }
  ],
  "metadata": {
    "colab": {
      "provenance": []
    },
    "kernelspec": {
      "display_name": "Python 3 (ipykernel)",
      "language": "python",
      "name": "python3"
    },
    "language_info": {
      "codemirror_mode": {
        "name": "ipython",
        "version": 3
      },
      "file_extension": ".py",
      "mimetype": "text/x-python",
      "name": "python",
      "nbconvert_exporter": "python",
      "pygments_lexer": "ipython3",
      "version": "3.9.7"
    }
  },
  "nbformat": 4,
  "nbformat_minor": 5
}